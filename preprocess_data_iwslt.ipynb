{
 "cells": [
  {
   "attachments": {},
   "cell_type": "markdown",
   "metadata": {},
   "source": [
    "## Load Data List\n",
    "### Load xml Data (Valid, Test)"
   ]
  },
  {
   "cell_type": "code",
   "execution_count": 1,
   "metadata": {},
   "outputs": [
    {
     "data": {
      "text/plain": [
       "934"
      ]
     },
     "execution_count": 1,
     "metadata": {},
     "output_type": "execute_result"
    }
   ],
   "source": [
    "import xml.etree.ElementTree as ET\n",
    "\n",
    "# Validset\n",
    "filePath = 'D:\\chinese\\zh-en\\IWSLT12.TALK.dev2010.zh-en.zh.xml'\n",
    "tree = ET.parse(filePath)\n",
    "root = tree.getroot()\n",
    "\n",
    "validset = []\n",
    "\n",
    "for child in root[0]:\n",
    "    for i in child:\n",
    "        if i.tag == 'seg':\n",
    "            validset.append(i.text)\n",
    "len(validset)"
   ]
  },
  {
   "cell_type": "code",
   "execution_count": 2,
   "metadata": {},
   "outputs": [
    {
     "data": {
      "text/plain": [
       "1664"
      ]
     },
     "execution_count": 2,
     "metadata": {},
     "output_type": "execute_result"
    }
   ],
   "source": [
    "# Testset\n",
    "filePath = 'D:\\chinese\\zh-en\\IWSLT12.TALK.tst2010.zh-en.zh.xml'\n",
    "tree = ET.parse(filePath)\n",
    "root = tree.getroot()\n",
    "\n",
    "testset = []\n",
    "\n",
    "for child in root[0]:\n",
    "    for i in child:\n",
    "        if i.tag == 'seg':\n",
    "            testset.append(i.text)\n",
    "len(testset)"
   ]
  },
  {
   "attachments": {},
   "cell_type": "markdown",
   "metadata": {},
   "source": [
    "### Load Train Data"
   ]
  },
  {
   "cell_type": "code",
   "execution_count": 3,
   "metadata": {},
   "outputs": [
    {
     "data": {
      "text/plain": [
       "138757"
      ]
     },
     "execution_count": 3,
     "metadata": {},
     "output_type": "execute_result"
    }
   ],
   "source": [
    "# Trainset\n",
    "filePath = 'D:\\chinese\\zh-en/train.tags.zh-en.zh'\n",
    "f = open(filePath, 'r', encoding='utf-8')\n",
    "data = f.readlines()\n",
    "trainset = [i for i in data if i[0]!='<']\n",
    "len(trainset)"
   ]
  },
  {
   "attachments": {},
   "cell_type": "markdown",
   "metadata": {},
   "source": [
    "## Preprocess Data"
   ]
  },
  {
   "cell_type": "code",
   "execution_count": 11,
   "metadata": {},
   "outputs": [],
   "source": [
    "# Preprocess Data\n",
    "def preprocess_data(name, references):\n",
    "    print(f'Preprocess {name} data...')\n",
    "    f = open(f\"D:\\chinese\\Chinese\\data\\zh_iwslt_14punc/{name}.txt\", 'w', encoding='utf-8')\n",
    "    punctuations = ['，', ',', '。', '!', '！', '？', '?', '；', ';', ':', '：', '‘', '“', '”', '’', '…', '─', '—', '、', '·', '（', '(', '）', ')', '《', '》', '　', ' ', '\\n']\n",
    "    for i in references:\n",
    "        i = i.replace('...', '…')\n",
    "        for j in range(len(i)):\n",
    "            if i[j] not in punctuations:\n",
    "                try:\n",
    "                    if (i[j]>='\\u2E80' and i[j]<='\\u2EFF') or (i[j]>='\\u3400' and i[j]<='\\u4DB5') or (i[j]>='\\4E00', i[j]<='\\u9FBF'):\n",
    "                        if i[j+1] in ['，', ',']:\n",
    "                            f.write(i[j] + '\\t' + ',' + '\\n')\n",
    "\n",
    "                        elif i[j+1] in ['。']:\n",
    "                            f.write(i[j] + '\\t' + '。' + '\\n')\n",
    "\n",
    "                        elif i[j+1] in ['!', '！']:\n",
    "                            f.write(i[j] + '\\t' + '!' + '\\n')\n",
    "\n",
    "                        elif i[j+1] in ['？', '?']:\n",
    "                            f.write(i[j] + '\\t' + '?' + '\\n')\n",
    "                            \n",
    "                        elif i[j+1] in ['；', ';']:\n",
    "                            f.write(i[j] + '\\t' + ';' + '\\n')\n",
    "                            \n",
    "                        elif i[j+1] in [':', '：']:\n",
    "                            f.write(i[j] + '\\t' + ':' + '\\n')\n",
    "                            \n",
    "                        elif i[j+1] in ['‘', '“']:\n",
    "                            f.write(i[j] + '\\t' + '“' + '\\n')\n",
    "\n",
    "                        elif i[j+1] in ['”', '’']:\n",
    "                            f.write(i[j] + '\\t' + '”' + '\\n')\n",
    "\n",
    "                        elif i[j+1] in ['…']:\n",
    "                            f.write(i[j] + '\\t' + '…' + '\\n')\n",
    "\n",
    "                        elif i[j+1] in ['─', '—', '—']:\n",
    "                            f.write(i[j] + '\\t' + '—' + '\\n')\n",
    "\n",
    "                        elif i[j+1] in ['、']:\n",
    "                            f.write(i[j] + '\\t' + '、' + '\\n')\n",
    "                            \n",
    "                        elif i[j+1] in ['·']:\n",
    "                            f.write(i[j] + '\\t' + '·' + '\\n')\n",
    "                            \n",
    "                        elif i[j+1] in ['《']:\n",
    "                            f.write(i[j] + '\\t' + '《' + '\\n')\n",
    "                            \n",
    "                        elif i[j+1] in ['》']:\n",
    "                            f.write(i[j] + '\\t' + '》' + '\\n')                        \n",
    "                        else:\n",
    "                            f.write(i[j] + '\\t' + 'O' + '\\n')\n",
    "                except:\n",
    "                    pass\n",
    "    f.close()"
   ]
  },
  {
   "cell_type": "code",
   "execution_count": 12,
   "metadata": {},
   "outputs": [
    {
     "name": "stdout",
     "output_type": "stream",
     "text": [
      "Preprocess train data...\n",
      "Preprocess valid data...\n",
      "Preprocess test data...\n"
     ]
    }
   ],
   "source": [
    "preprocess_data('train', trainset)\n",
    "preprocess_data('valid', validset)\n",
    "preprocess_data('test', testset)"
   ]
  },
  {
   "attachments": {},
   "cell_type": "markdown",
   "metadata": {},
   "source": [
    "## Count Punctuation"
   ]
  },
  {
   "cell_type": "code",
   "execution_count": 2,
   "metadata": {},
   "outputs": [],
   "source": [
    "import pandas as pd\n",
    "import numpy as np\n",
    "\n",
    "def count_punctuation(name):\n",
    "    f = open(f\"D:\\chinese\\Chinese\\data\\zh_iwslt_14punc/{name}.txt\", 'r', encoding='utf-8')\n",
    "    data = f.readlines()\n",
    "    data = [i.split('\\t')[1][0] for i in data]\n",
    "    count = [data.count('O'), data.count(','), data.count('。'), data.count('!'), data.count('?'), data.count(';'), data.count(':'), data.count('“'), data.count('”'),\n",
    "            data.count('…'), data.count('—'), data.count('、'), data.count('·'), data.count('《'), data.count('》')]\n",
    "    result = pd.DataFrame(\n",
    "        np.array([count]), \n",
    "        columns=list(['O', ',', '。', '!', '?', ';', ':', '“', '”', '…', '—', '、', '·', '《', '》']),\n",
    "        index = ['Count']\n",
    "    )\n",
    "\n",
    "    return result"
   ]
  },
  {
   "cell_type": "code",
   "execution_count": 7,
   "metadata": {},
   "outputs": [
    {
     "data": {
      "text/html": [
       "<div>\n",
       "<style scoped>\n",
       "    .dataframe tbody tr th:only-of-type {\n",
       "        vertical-align: middle;\n",
       "    }\n",
       "\n",
       "    .dataframe tbody tr th {\n",
       "        vertical-align: top;\n",
       "    }\n",
       "\n",
       "    .dataframe thead th {\n",
       "        text-align: right;\n",
       "    }\n",
       "</style>\n",
       "<table border=\"1\" class=\"dataframe\">\n",
       "  <thead>\n",
       "    <tr style=\"text-align: right;\">\n",
       "      <th></th>\n",
       "      <th>O</th>\n",
       "      <th>,</th>\n",
       "      <th>。</th>\n",
       "      <th>!</th>\n",
       "      <th>?</th>\n",
       "      <th>;</th>\n",
       "      <th>:</th>\n",
       "      <th>“</th>\n",
       "      <th>”</th>\n",
       "      <th>…</th>\n",
       "      <th>—</th>\n",
       "      <th>、</th>\n",
       "      <th>·</th>\n",
       "      <th>《</th>\n",
       "      <th>》</th>\n",
       "    </tr>\n",
       "  </thead>\n",
       "  <tbody>\n",
       "    <tr>\n",
       "      <th>Count</th>\n",
       "      <td>3430148</td>\n",
       "      <td>127995</td>\n",
       "      <td>85669</td>\n",
       "      <td>1295</td>\n",
       "      <td>10810</td>\n",
       "      <td>825</td>\n",
       "      <td>8005</td>\n",
       "      <td>3915</td>\n",
       "      <td>4802</td>\n",
       "      <td>611</td>\n",
       "      <td>2859</td>\n",
       "      <td>3682</td>\n",
       "      <td>1648</td>\n",
       "      <td>498</td>\n",
       "      <td>626</td>\n",
       "    </tr>\n",
       "  </tbody>\n",
       "</table>\n",
       "</div>"
      ],
      "text/plain": [
       "             O       ,      。     !      ?    ;     :     “     ”    …     —  \\\n",
       "Count  3430148  127995  85669  1295  10810  825  8005  3915  4802  611  2859   \n",
       "\n",
       "          、     ·    《    》  \n",
       "Count  3682  1648  498  626  "
      ]
     },
     "execution_count": 7,
     "metadata": {},
     "output_type": "execute_result"
    }
   ],
   "source": [
    "count_punctuation('train')"
   ]
  },
  {
   "cell_type": "code",
   "execution_count": 15,
   "metadata": {},
   "outputs": [
    {
     "data": {
      "text/html": [
       "<div>\n",
       "<style scoped>\n",
       "    .dataframe tbody tr th:only-of-type {\n",
       "        vertical-align: middle;\n",
       "    }\n",
       "\n",
       "    .dataframe tbody tr th {\n",
       "        vertical-align: top;\n",
       "    }\n",
       "\n",
       "    .dataframe thead th {\n",
       "        text-align: right;\n",
       "    }\n",
       "</style>\n",
       "<table border=\"1\" class=\"dataframe\">\n",
       "  <thead>\n",
       "    <tr style=\"text-align: right;\">\n",
       "      <th></th>\n",
       "      <th>,</th>\n",
       "      <th>。</th>\n",
       "      <th>!</th>\n",
       "      <th>?</th>\n",
       "      <th>;</th>\n",
       "      <th>:</th>\n",
       "      <th>“</th>\n",
       "      <th>”</th>\n",
       "      <th>…</th>\n",
       "      <th>—</th>\n",
       "      <th>、</th>\n",
       "      <th>·</th>\n",
       "      <th>《</th>\n",
       "      <th>》</th>\n",
       "    </tr>\n",
       "  </thead>\n",
       "  <tbody>\n",
       "    <tr>\n",
       "      <th>Count</th>\n",
       "      <td>972</td>\n",
       "      <td>424</td>\n",
       "      <td>19</td>\n",
       "      <td>96</td>\n",
       "      <td>2</td>\n",
       "      <td>106</td>\n",
       "      <td>40</td>\n",
       "      <td>57</td>\n",
       "      <td>0</td>\n",
       "      <td>6</td>\n",
       "      <td>33</td>\n",
       "      <td>3</td>\n",
       "      <td>8</td>\n",
       "      <td>8</td>\n",
       "    </tr>\n",
       "  </tbody>\n",
       "</table>\n",
       "</div>"
      ],
      "text/plain": [
       "         ,    。   !   ?  ;    :   “   ”  …  —   、  ·  《  》\n",
       "Count  972  424  19  96  2  106  40  57  0  6  33  3  8  8"
      ]
     },
     "execution_count": 15,
     "metadata": {},
     "output_type": "execute_result"
    }
   ],
   "source": [
    "count_punctuation('valid')"
   ]
  },
  {
   "cell_type": "code",
   "execution_count": 16,
   "metadata": {},
   "outputs": [
    {
     "data": {
      "text/html": [
       "<div>\n",
       "<style scoped>\n",
       "    .dataframe tbody tr th:only-of-type {\n",
       "        vertical-align: middle;\n",
       "    }\n",
       "\n",
       "    .dataframe tbody tr th {\n",
       "        vertical-align: top;\n",
       "    }\n",
       "\n",
       "    .dataframe thead th {\n",
       "        text-align: right;\n",
       "    }\n",
       "</style>\n",
       "<table border=\"1\" class=\"dataframe\">\n",
       "  <thead>\n",
       "    <tr style=\"text-align: right;\">\n",
       "      <th></th>\n",
       "      <th>,</th>\n",
       "      <th>。</th>\n",
       "      <th>!</th>\n",
       "      <th>?</th>\n",
       "      <th>;</th>\n",
       "      <th>:</th>\n",
       "      <th>“</th>\n",
       "      <th>”</th>\n",
       "      <th>…</th>\n",
       "      <th>—</th>\n",
       "      <th>、</th>\n",
       "      <th>·</th>\n",
       "      <th>《</th>\n",
       "      <th>》</th>\n",
       "    </tr>\n",
       "  </thead>\n",
       "  <tbody>\n",
       "    <tr>\n",
       "      <th>Count</th>\n",
       "      <td>1780</td>\n",
       "      <td>896</td>\n",
       "      <td>10</td>\n",
       "      <td>147</td>\n",
       "      <td>4</td>\n",
       "      <td>105</td>\n",
       "      <td>46</td>\n",
       "      <td>67</td>\n",
       "      <td>3</td>\n",
       "      <td>13</td>\n",
       "      <td>109</td>\n",
       "      <td>9</td>\n",
       "      <td>23</td>\n",
       "      <td>28</td>\n",
       "    </tr>\n",
       "  </tbody>\n",
       "</table>\n",
       "</div>"
      ],
      "text/plain": [
       "          ,    。   !    ?  ;    :   “   ”  …   —    、  ·   《   》\n",
       "Count  1780  896  10  147  4  105  46  67  3  13  109  9  23  28"
      ]
     },
     "execution_count": 16,
     "metadata": {},
     "output_type": "execute_result"
    }
   ],
   "source": [
    "count_punctuation('test')"
   ]
  },
  {
   "cell_type": "code",
   "execution_count": 21,
   "metadata": {},
   "outputs": [],
   "source": [
    "def count_punctuation(name):\n",
    "    f = open(f\"D:\\chinese\\Chinese\\data\\zh_iwslt_14punc/{name}.txt\", 'r', encoding='utf-8')\n",
    "    data = f.readlines()\n",
    "    data = [i.split('\\t')[1][0] for i in data]\n",
    "    count = [data.count('O'), data.count(','), data.count('。'), data.count('!')+data.count('?')+data.count(';')+data.count(':')+data.count('“')+data.count('”')+data.count('…')+data.count('—')+data.count('、')+data.count('·')+data.count('《')+data.count('》')]\n",
    "    result = pd.DataFrame(\n",
    "        np.array([count]), \n",
    "        columns=list(['O', ',', '。', 'others']),\n",
    "        index = ['Count']\n",
    "    )\n",
    "\n",
    "    return result\n",
    "result = count_punctuation('train').transpose()"
   ]
  },
  {
   "cell_type": "code",
   "execution_count": 22,
   "metadata": {},
   "outputs": [
    {
     "data": {
      "text/plain": [
       "[]"
      ]
     },
     "execution_count": 22,
     "metadata": {},
     "output_type": "execute_result"
    },
    {
     "data": {
      "image/png": "[encoded data removed]",
      "text/plain": [
       "<Figure size 640x480 with 1 Axes>"
      ]
     },
     "metadata": {},
     "output_type": "display_data"
    }
   ],
   "source": [
    "import matplotlib.pyplot as plt\n",
    "\n",
    "plt.pie(result['Count'], labels = ['O', 'PERIOD', 'COMMA', 'OTHERS'])\n",
    "plt.plot()"
   ]
  },
  {
   "cell_type": "code",
   "execution_count": null,
   "metadata": {},
   "outputs": [],
   "source": []
  }
 ],
 "metadata": {
  "kernelspec": {
   "display_name": "chinese",
   "language": "python",
   "name": "chinese"
  },
  "language_info": {
   "codemirror_mode": {
    "name": "ipython",
    "version": 3
   },
   "file_extension": ".py",
   "mimetype": "text/x-python",
   "name": "python",
   "nbconvert_exporter": "python",
   "pygments_lexer": "ipython3",
   "version": "3.7.15"
  },
  "orig_nbformat": 4,
  "vscode": {
   "interpreter": {
    "hash": "17a04c7203584802a446ab96052ceb52f828319d43a117bc86159d770741aa0a"
   }
  }
 },
 "nbformat": 4,
 "nbformat_minor": 2
}
